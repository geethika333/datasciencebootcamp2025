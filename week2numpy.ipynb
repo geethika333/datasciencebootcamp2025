{
 "cells": [
  {
   "cell_type": "markdown",
   "id": "422d25a2",
   "metadata": {},
   "source": [
    "## DATASCIENCE BOOTCAMP \n",
    "WEEK 2\n",
    "NUMPY"
   ]
  },
  {
   "cell_type": "code",
   "execution_count": 1,
   "id": "1f46afaa",
   "metadata": {},
   "outputs": [
    {
     "name": "stdout",
     "output_type": "stream",
     "text": [
      "Requirement already satisfied: numpy in /Users/geethikaraogouravelli/miniconda3/envs/myenv/lib/python3.10/site-packages (2.2.6)\n"
     ]
    }
   ],
   "source": [
    "!pip3 install numpy"
   ]
  },
  {
   "cell_type": "code",
   "execution_count": 8,
   "id": "a008f7d7",
   "metadata": {},
   "outputs": [],
   "source": [
    "import numpy as np\n"
   ]
  },
  {
   "cell_type": "code",
   "execution_count": 18,
   "id": "a58e8e2c",
   "metadata": {},
   "outputs": [
    {
     "name": "stdout",
     "output_type": "stream",
     "text": [
      "[ 1  2  3  4  5  3  9  6  7  8  9 10  1  6]\n",
      "[[ 1  2  3  4  5  3  9]\n",
      " [ 6  7  8  9 10  1  6]]\n",
      "[1 9]\n",
      "[ 6  7  8  9 10  6]\n"
     ]
    }
   ],
   "source": [
    "A=np.array([1,2,3,4,5,3,9])\n",
    "B=np.array([6,7,8,9,10,1,6])\n",
    "\n",
    "#horizontalStacking\n",
    "c=np.hstack((A,B))\n",
    "\n",
    "#verticalStacking\n",
    "d=np.vstack((A,B))\n",
    "\n",
    "print(c)\n",
    "print(d)\n",
    "\n",
    "#printCommon\n",
    "\n",
    "common=np.intersect1d(a,b)\n",
    "print(common)\n",
    "\n",
    "\n",
    "#printingWithinRange\n",
    "\n",
    "WithinRange=B[(B>=5) & (B<=10)]\n",
    "print(WithinRange)"
   ]
  },
  {
   "cell_type": "code",
   "execution_count": null,
   "id": "c2b8a477",
   "metadata": {},
   "outputs": [
    {
     "name": "stdout",
     "output_type": "stream",
     "text": [
      "Filtered rows where petallength > 1.5 and sepallength < 5.0:\n",
      "\n",
      "[[4.8 3.4 1.6 0.2]\n",
      " [4.8 3.4 1.9 0.2]\n",
      " [4.7 3.2 1.6 0.2]\n",
      " [4.8 3.1 1.6 0.2]\n",
      " [4.9 2.4 3.3 1. ]\n",
      " [4.9 2.5 4.5 1.7]]\n"
     ]
    }
   ],
   "source": [
    "import urllib.request\n",
    "\n",
    "# Step 1: Open the URL directly\n",
    "url = 'https://archive.ics.uci.edu/ml/machine-learning-databases/iris/iris.data'\n",
    "\n",
    "with urllib.request.urlopen(url) as f:\n",
    "    iris_2d = np.genfromtxt(f, delimiter=',', dtype='float', usecols=[0,1,2,3])\n",
    "\n",
    "# Step 2: Apply filtering\n",
    "condition = (iris_2d[:, 2] > 1.5) & (iris_2d[:, 0] < 5.0)\n",
    "filtered_rows = iris_2d[condition]\n",
    "\n",
    "print(\"Filtered rows where petallength > 1.5 and sepallength < 5.0:\\n\")\n",
    "print(filtered_rows)\n"
   ]
  }
 ],
 "metadata": {
  "kernelspec": {
   "display_name": "myenv",
   "language": "python",
   "name": "python3"
  },
  "language_info": {
   "codemirror_mode": {
    "name": "ipython",
    "version": 3
   },
   "file_extension": ".py",
   "mimetype": "text/x-python",
   "name": "python",
   "nbconvert_exporter": "python",
   "pygments_lexer": "ipython3",
   "version": "3.10.18"
  }
 },
 "nbformat": 4,
 "nbformat_minor": 5
}
